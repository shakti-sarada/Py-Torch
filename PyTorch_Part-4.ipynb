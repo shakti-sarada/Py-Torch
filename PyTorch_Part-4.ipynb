{
 "cells": [
  {
   "cell_type": "markdown",
   "id": "091e079a",
   "metadata": {},
   "source": [
    "## Working with Images\n",
    "\n",
    "In this tutorial, we'll use our existing knowledge of PyTorch and linear regression to solve a very different kind of problem: *image classification*. We'll use the famous [*MNIST Handwritten Digits Database*](http://yann.lecun.com/exdb/mnist/) as our training dataset. It consists of 28px by 28px grayscale images of handwritten digits (0 to 9) and labels for each image indicating which digit it represents. Here are some sample images from the dataset:\n",
    "\n",
    "![mnist-sample](https://i.imgur.com/CAYnuo1.jpg)"
   ]
  },
  {
   "cell_type": "markdown",
   "id": "4f6bf7c4",
   "metadata": {},
   "source": [
    "We begin by installing and importing `torch` and `torchvision`. `torchvision` contains some utilities for working with image data. It also provides helper classes to download and import popular datasets like MNIST automatically"
   ]
  },
  {
   "cell_type": "code",
   "execution_count": 1,
   "id": "11fec73f",
   "metadata": {},
   "outputs": [],
   "source": [
    "# Imports\n",
    "import torch\n",
    "import torchvision\n",
    "from torchvision.datasets import MNIST"
   ]
  },
  {
   "cell_type": "code",
   "execution_count": 2,
   "id": "3330039c",
   "metadata": {},
   "outputs": [],
   "source": [
    "# Download training dataset\n",
    "dataset = MNIST(root='data/', download=True)"
   ]
  },
  {
   "cell_type": "markdown",
   "id": "e31b4e4f",
   "metadata": {},
   "source": [
    "When this statement is executed for the first time, it downloads the data to the `data/` directory next to the notebook and creates a PyTorch `Dataset`. On subsequent executions, the download is skipped as the data is already downloaded. Let's check the size of the dataset."
   ]
  },
  {
   "cell_type": "code",
   "execution_count": 3,
   "id": "20212ba4",
   "metadata": {},
   "outputs": [
    {
     "data": {
      "text/plain": [
       "60000"
      ]
     },
     "execution_count": 3,
     "metadata": {},
     "output_type": "execute_result"
    }
   ],
   "source": [
    "len(dataset)"
   ]
  },
  {
   "cell_type": "markdown",
   "id": "ef08bc5d",
   "metadata": {},
   "source": [
    "The dataset has 60,000 images that we'll use to train the model. There is also an additional test set of 10,000 images used for evaluating models and reporting metrics in papers and reports. We can create the test dataset using the `MNIST` class by passing `train=False` to the constructor."
   ]
  },
  {
   "cell_type": "code",
   "execution_count": 4,
   "id": "5b439e42",
   "metadata": {},
   "outputs": [
    {
     "data": {
      "text/plain": [
       "10000"
      ]
     },
     "execution_count": 4,
     "metadata": {},
     "output_type": "execute_result"
    }
   ],
   "source": [
    "test_dataset = MNIST(root='data/', train=False)\n",
    "len(test_dataset)"
   ]
  },
  {
   "cell_type": "markdown",
   "id": "12e15676",
   "metadata": {},
   "source": [
    "Let's look at a sample element from the training dataset."
   ]
  },
  {
   "cell_type": "code",
   "execution_count": 5,
   "id": "dca01616",
   "metadata": {},
   "outputs": [
    {
     "data": {
      "text/plain": [
       "(<PIL.Image.Image image mode=L size=28x28>, 5)"
      ]
     },
     "execution_count": 5,
     "metadata": {},
     "output_type": "execute_result"
    }
   ],
   "source": [
    "dataset[0]"
   ]
  },
  {
   "cell_type": "markdown",
   "id": "b091b4a6",
   "metadata": {},
   "source": [
    "It's a pair, consisting of a 28x28px image and a label. The image is an object of the class `PIL.Image.Image`, which is a part of the Python imaging library [Pillow](https://pillow.readthedocs.io/en/stable/). We can view the image within Jupyter using [`matplotlib`](https://matplotlib.org/), the de-facto plotting and graphing library for data science in Python."
   ]
  },
  {
   "cell_type": "code",
   "execution_count": 6,
   "id": "2fd6e39c",
   "metadata": {},
   "outputs": [],
   "source": [
    "import matplotlib.pyplot as plt\n",
    "%matplotlib inline"
   ]
  },
  {
   "cell_type": "markdown",
   "id": "475d8ecf",
   "metadata": {},
   "source": [
    "The statement `%matplotlib inline` indicates to Jupyter that we want to plot the graphs within the notebook. Without this line, Jupyter will show the image in a popup. Statements starting with `%` are called magic commands and are used to configure the behavior of Jupyter itself. You can find a full list of magic commands here: https://ipython.readthedocs.io/en/stable/interactive/magics.html .\n",
    "\n",
    "Let's look at a couple of images from the dataset."
   ]
  },
  {
   "cell_type": "code",
   "execution_count": 7,
   "id": "ea0ad285",
   "metadata": {},
   "outputs": [
    {
     "name": "stdout",
     "output_type": "stream",
     "text": [
      "Label: 5\n"
     ]
    },
    {
     "data": {
      "image/png": "[encoded data removed]",
      "text/plain": [
       "<Figure size 432x288 with 1 Axes>"
      ]
     },
     "metadata": {
      "needs_background": "light"
     },
     "output_type": "display_data"
    }
   ],
   "source": [
    "image, label = dataset[0]\n",
    "plt.imshow(image, cmap='gray')\n",
    "print('Label:', label)"
   ]
  },
  {
   "cell_type": "code",
   "execution_count": 8,
   "id": "24d47983",
   "metadata": {},
   "outputs": [
    {
     "name": "stdout",
     "output_type": "stream",
     "text": [
      "Label: 3\n"
     ]
    },
    {
     "data": {
      "image/png": "[encoded data removed]",
      "text/plain": [
       "<Figure size 432x288 with 1 Axes>"
      ]
     },
     "metadata": {
      "needs_background": "light"
     },
     "output_type": "display_data"
    }
   ],
   "source": [
    "image, label = dataset[10]\n",
    "plt.imshow(image, cmap='gray')\n",
    "print('Label:', label)"
   ]
  },
  {
   "cell_type": "markdown",
   "id": "3bc836fe",
   "metadata": {},
   "source": [
    "It's evident that these images are relatively small in size, and recognizing the digits can sometimes be challenging even for the human eye. While it's useful to look at these images, there's just one problem here: PyTorch doesn't know how to work with images. We need to convert the images into tensors. We can do this by specifying a transform while creating our dataset."
   ]
  },
  {
   "cell_type": "code",
   "execution_count": 9,
   "id": "c73df0f9",
   "metadata": {},
   "outputs": [],
   "source": [
    "import torchvision.transforms as transforms"
   ]
  },
  {
   "cell_type": "markdown",
   "id": "1ef5a584",
   "metadata": {},
   "source": [
    "PyTorch datasets allow us to specify one or more transformation functions that are applied to the images as they are loaded. The `torchvision.transforms` module contains many such predefined functions. We'll use the `ToTensor` transform to convert images into PyTorch tensors."
   ]
  },
  {
   "cell_type": "code",
   "execution_count": 10,
   "id": "3f939249",
   "metadata": {},
   "outputs": [],
   "source": [
    "# MNIST dataset (images and labels)\n",
    "dataset = MNIST(root='data/', \n",
    "                train=True,\n",
    "                transform=transforms.ToTensor())"
   ]
  },
  {
   "cell_type": "code",
   "execution_count": 11,
   "id": "2b83de2d",
   "metadata": {},
   "outputs": [
    {
     "name": "stdout",
     "output_type": "stream",
     "text": [
      "torch.Size([1, 28, 28]) 5\n"
     ]
    }
   ],
   "source": [
    "img_tensor, label = dataset[0]\n",
    "print(img_tensor.shape, label)"
   ]
  },
  {
   "cell_type": "markdown",
   "id": "48b00f8a",
   "metadata": {},
   "source": [
    "The image is now converted to a 1x28x28 tensor. The first dimension tracks color channels. The second and third dimensions represent pixels along the height and width of the image, respectively. Since images in the MNIST dataset are grayscale, there's just one channel. Other datasets have images with color, in which case there are three channels: red, green, and blue (RGB). \n",
    "\n",
    "Let's look at some sample values inside the tensor."
   ]
  },
  {
   "cell_type": "code",
   "execution_count": 12,
   "id": "8fe444a6",
   "metadata": {},
   "outputs": [
    {
     "name": "stdout",
     "output_type": "stream",
     "text": [
      "tensor([[0.0039, 0.6039, 0.9922, 0.3529, 0.0000],\n",
      "        [0.0000, 0.5451, 0.9922, 0.7451, 0.0078],\n",
      "        [0.0000, 0.0431, 0.7451, 0.9922, 0.2745],\n",
      "        [0.0000, 0.0000, 0.1373, 0.9451, 0.8824],\n",
      "        [0.0000, 0.0000, 0.0000, 0.3176, 0.9412]])\n",
      "tensor(1.) tensor(0.)\n"
     ]
    }
   ],
   "source": [
    "print(img_tensor[0,10:15,10:15])\n",
    "print(torch.max(img_tensor), torch.min(img_tensor))"
   ]
  },
  {
   "cell_type": "markdown",
   "id": "8750ddd3",
   "metadata": {},
   "source": [
    "The values range from 0 to 1, with `0` representing black, `1` white, and the values in between different shades of grey. We can also plot the tensor as an image using `plt.imshow`."
   ]
  },
  {
   "cell_type": "code",
   "execution_count": 13,
   "id": "264fc8d8",
   "metadata": {},
   "outputs": [
    {
     "data": {
      "image/png": "[encoded data removed]",
      "text/plain": [
       "<Figure size 432x288 with 1 Axes>"
      ]
     },
     "metadata": {
      "needs_background": "light"
     },
     "output_type": "display_data"
    }
   ],
   "source": [
    "# Plot the image by passing in the 28x28 matrix\n",
    "plt.imshow(img_tensor[0,10:15,10:15], cmap='gray');"
   ]
  },
  {
   "cell_type": "markdown",
   "id": "2c6ae26b",
   "metadata": {},
   "source": [
    "Note that we need to pass just the 28x28 matrix to `plt.imshow`, without a channel dimension. We also pass a color map (`cmap=gray`) to indicate that we want to see a grayscale image."
   ]
  },
  {
   "cell_type": "markdown",
   "id": "bdf18dcc",
   "metadata": {},
   "source": [
    "## Training and Validation Datasets\n",
    "\n",
    "While building real-world machine learning models, it is quite common to split the dataset into three parts:\n",
    "\n",
    "1. **Training set** - used to train the model, i.e., compute the loss and adjust the model's weights using gradient descent.\n",
    "2. **Validation set** - used to evaluate the model during training, adjust hyperparameters (learning rate, etc.), and pick the best version of the model.\n",
    "3. **Test set** - used to compare different models or approaches and report the model's final accuracy.\n",
    "\n",
    "In the MNIST dataset, there are 60,000 training images and 10,000 test images. The test set is standardized so that different researchers can report their models' results against the same collection of images. \n",
    "\n",
    "Since there's no predefined validation set, we must manually split the 60,000 images into training and validation datasets. Let's set aside 10,000 randomly chosen images for validation. We can do this using the `random_spilt` method from PyTorch."
   ]
  },
  {
   "cell_type": "code",
   "execution_count": 14,
   "id": "1d9880e9",
   "metadata": {},
   "outputs": [
    {
     "data": {
      "text/plain": [
       "(50000, 10000)"
      ]
     },
     "execution_count": 14,
     "metadata": {},
     "output_type": "execute_result"
    }
   ],
   "source": [
    "from torch.utils.data import random_split\n",
    "\n",
    "train_ds, val_ds = random_split(dataset, [50000, 10000])\n",
    "len(train_ds), len(val_ds)"
   ]
  },
  {
   "cell_type": "markdown",
   "id": "ee1a1024",
   "metadata": {},
   "source": [
    "It's essential to choose a random sample for creating a validation set. Training data is often sorted by the target labels, i.e., images of 0s, followed by 1s, followed by 2s, etc. If we create a validation set using the last 20% of images, it would only consist of 8s and 9s. In contrast, the training set would contain no 8s or 9s. Such a training-validation would make it impossible to train a useful model.\n",
    "\n",
    "We can now create data loaders to help us load the data in batches. We'll use a batch size of 128.\n",
    "\n"
   ]
  },
  {
   "cell_type": "code",
   "execution_count": 15,
   "id": "8607a764",
   "metadata": {},
   "outputs": [],
   "source": [
    "from torch.utils.data import DataLoader\n",
    "\n",
    "batch_size = 128\n",
    "\n",
    "train_loader = DataLoader(train_ds, batch_size, shuffle=True)\n",
    "val_loader = DataLoader(val_ds, batch_size)"
   ]
  },
  {
   "cell_type": "markdown",
   "id": "897865f5",
   "metadata": {},
   "source": [
    "We set `shuffle=True` for the training data loader to ensure that the batches generated in each epoch are different. This randomization helps generalize & speed up the training process. On the other hand, since the validation data loader is used only for evaluating the model, there is no need to shuffle the images. "
   ]
  },
  {
   "cell_type": "markdown",
   "id": "667184d0",
   "metadata": {},
   "source": [
    "## Model\n",
    "\n",
    "Now that we have prepared our data loaders, we can define our model.\n",
    "\n",
    "* A **logistic regression** model is almost identical to a linear regression model. It contains weights and bias matrices, and the output is obtained using simple matrix operations (`pred = x @ w.t() + b`). \n",
    "\n",
    "* As we did with linear regression, we can use `nn.Linear` to create the model instead of manually creating and initializing the matrices.\n",
    "\n",
    "* Since `nn.Linear` expects each training example to be a vector, each `1x28x28` image tensor is _flattened_ into a vector of size 784 `(28*28)` before being passed into the model. \n",
    "\n",
    "* The output for each image is a vector of size 10, with each element signifying the probability of a particular target label (i.e., 0 to 9). The predicted label for an image is simply the one with the highest probability."
   ]
  },
  {
   "cell_type": "code",
   "execution_count": 16,
   "id": "4822c962",
   "metadata": {},
   "outputs": [],
   "source": [
    "import torch.nn as nn\n",
    "\n",
    "input_size = 28*28\n",
    "num_classes = 10\n",
    "\n",
    "# Logistic regression model\n",
    "model = nn.Linear(input_size, num_classes)"
   ]
  },
  {
   "cell_type": "markdown",
   "id": "2d23a888",
   "metadata": {},
   "source": [
    "Of course, this model is a lot larger than our previous model in terms of the number of parameters. Let's take a look at the weights and biases."
   ]
  },
  {
   "cell_type": "code",
   "execution_count": 17,
   "id": "9afa8305",
   "metadata": {},
   "outputs": [
    {
     "name": "stdout",
     "output_type": "stream",
     "text": [
      "torch.Size([10, 784])\n"
     ]
    },
    {
     "data": {
      "text/plain": [
       "Parameter containing:\n",
       "tensor([[-2.4554e-02, -2.2475e-02,  2.3402e-02,  ...,  1.4910e-02,\n",
       "          2.2940e-02, -2.5856e-02],\n",
       "        [ 2.3969e-02, -1.1159e-02,  3.2525e-02,  ...,  2.7741e-02,\n",
       "         -2.5681e-02, -2.6587e-02],\n",
       "        [-9.9964e-03,  2.7164e-02,  3.0045e-02,  ..., -3.4896e-02,\n",
       "         -3.4117e-02, -1.3722e-02],\n",
       "        ...,\n",
       "        [ 1.9367e-02,  3.0125e-02,  4.5054e-03,  ...,  3.3629e-02,\n",
       "         -1.9374e-03, -1.9034e-02],\n",
       "        [-2.2770e-03,  2.1892e-02,  4.2908e-05,  ..., -1.5087e-06,\n",
       "         -1.6766e-02,  3.1712e-02],\n",
       "        [ 2.6735e-02,  3.0104e-02,  2.0646e-02,  ..., -2.3616e-03,\n",
       "          2.2606e-02,  1.6507e-02]], requires_grad=True)"
      ]
     },
     "execution_count": 17,
     "metadata": {},
     "output_type": "execute_result"
    }
   ],
   "source": [
    "print(model.weight.shape)\n",
    "model.weight"
   ]
  },
  {
   "cell_type": "markdown",
   "id": "75e7b59b",
   "metadata": {},
   "source": [
    "Although there are a total of 7850 parameters here, conceptually, nothing has changed so far. Let's try and generate some outputs using our model. We'll take the first batch of 100 images from our dataset and pass them into our model."
   ]
  },
  {
   "cell_type": "code",
   "execution_count": 18,
   "id": "f1da4ae8",
   "metadata": {},
   "outputs": [
    {
     "name": "stdout",
     "output_type": "stream",
     "text": [
      "tensor([8, 2, 1, 6, 6, 6, 2, 7, 4, 8, 1, 6, 9, 9, 1, 9, 2, 6, 8, 1, 3, 1, 9, 0,\n",
      "        4, 5, 3, 3, 7, 9, 0, 8, 0, 5, 9, 7, 4, 9, 2, 6, 6, 5, 4, 5, 5, 7, 0, 0,\n",
      "        9, 3, 1, 5, 9, 4, 5, 5, 0, 0, 6, 7, 3, 6, 6, 9, 4, 6, 5, 2, 0, 8, 7, 2,\n",
      "        3, 4, 5, 0, 2, 3, 7, 2, 8, 7, 9, 3, 8, 4, 9, 4, 9, 6, 9, 0, 5, 5, 8, 5,\n",
      "        8, 1, 5, 0, 7, 9, 5, 7, 5, 2, 1, 2, 6, 0, 4, 2, 3, 7, 2, 2, 2, 5, 3, 2,\n",
      "        2, 3, 9, 0, 4, 7, 9, 5])\n",
      "torch.Size([128, 1, 28, 28])\n"
     ]
    },
    {
     "ename": "RuntimeError",
     "evalue": "mat1 and mat2 shapes cannot be multiplied (3584x28 and 784x10)",
     "output_type": "error",
     "traceback": [
      "\u001b[1;31m---------------------------------------------------------------------------\u001b[0m",
      "\u001b[1;31mRuntimeError\u001b[0m                              Traceback (most recent call last)",
      "Input \u001b[1;32mIn [18]\u001b[0m, in \u001b[0;36m<cell line: 1>\u001b[1;34m()\u001b[0m\n\u001b[0;32m      2\u001b[0m \u001b[38;5;28mprint\u001b[39m(labels)\n\u001b[0;32m      3\u001b[0m \u001b[38;5;28mprint\u001b[39m(images\u001b[38;5;241m.\u001b[39mshape)\n\u001b[1;32m----> 4\u001b[0m outputs \u001b[38;5;241m=\u001b[39m \u001b[43mmodel\u001b[49m\u001b[43m(\u001b[49m\u001b[43mimages\u001b[49m\u001b[43m)\u001b[49m\n\u001b[0;32m      5\u001b[0m \u001b[38;5;28mprint\u001b[39m(outputs)\n\u001b[0;32m      6\u001b[0m \u001b[38;5;28;01mbreak\u001b[39;00m\n",
      "File \u001b[1;32m~\\anaconda3\\lib\\site-packages\\torch\\nn\\modules\\module.py:1553\u001b[0m, in \u001b[0;36mModule._wrapped_call_impl\u001b[1;34m(self, *args, **kwargs)\u001b[0m\n\u001b[0;32m   1551\u001b[0m     \u001b[38;5;28;01mreturn\u001b[39;00m \u001b[38;5;28mself\u001b[39m\u001b[38;5;241m.\u001b[39m_compiled_call_impl(\u001b[38;5;241m*\u001b[39margs, \u001b[38;5;241m*\u001b[39m\u001b[38;5;241m*\u001b[39mkwargs)  \u001b[38;5;66;03m# type: ignore[misc]\u001b[39;00m\n\u001b[0;32m   1552\u001b[0m \u001b[38;5;28;01melse\u001b[39;00m:\n\u001b[1;32m-> 1553\u001b[0m     \u001b[38;5;28;01mreturn\u001b[39;00m \u001b[38;5;28mself\u001b[39m\u001b[38;5;241m.\u001b[39m_call_impl(\u001b[38;5;241m*\u001b[39margs, \u001b[38;5;241m*\u001b[39m\u001b[38;5;241m*\u001b[39mkwargs)\n",
      "File \u001b[1;32m~\\anaconda3\\lib\\site-packages\\torch\\nn\\modules\\module.py:1562\u001b[0m, in \u001b[0;36mModule._call_impl\u001b[1;34m(self, *args, **kwargs)\u001b[0m\n\u001b[0;32m   1557\u001b[0m \u001b[38;5;66;03m# If we don't have any hooks, we want to skip the rest of the logic in\u001b[39;00m\n\u001b[0;32m   1558\u001b[0m \u001b[38;5;66;03m# this function, and just call forward.\u001b[39;00m\n\u001b[0;32m   1559\u001b[0m \u001b[38;5;28;01mif\u001b[39;00m \u001b[38;5;129;01mnot\u001b[39;00m (\u001b[38;5;28mself\u001b[39m\u001b[38;5;241m.\u001b[39m_backward_hooks \u001b[38;5;129;01mor\u001b[39;00m \u001b[38;5;28mself\u001b[39m\u001b[38;5;241m.\u001b[39m_backward_pre_hooks \u001b[38;5;129;01mor\u001b[39;00m \u001b[38;5;28mself\u001b[39m\u001b[38;5;241m.\u001b[39m_forward_hooks \u001b[38;5;129;01mor\u001b[39;00m \u001b[38;5;28mself\u001b[39m\u001b[38;5;241m.\u001b[39m_forward_pre_hooks\n\u001b[0;32m   1560\u001b[0m         \u001b[38;5;129;01mor\u001b[39;00m _global_backward_pre_hooks \u001b[38;5;129;01mor\u001b[39;00m _global_backward_hooks\n\u001b[0;32m   1561\u001b[0m         \u001b[38;5;129;01mor\u001b[39;00m _global_forward_hooks \u001b[38;5;129;01mor\u001b[39;00m _global_forward_pre_hooks):\n\u001b[1;32m-> 1562\u001b[0m     \u001b[38;5;28;01mreturn\u001b[39;00m forward_call(\u001b[38;5;241m*\u001b[39margs, \u001b[38;5;241m*\u001b[39m\u001b[38;5;241m*\u001b[39mkwargs)\n\u001b[0;32m   1564\u001b[0m \u001b[38;5;28;01mtry\u001b[39;00m:\n\u001b[0;32m   1565\u001b[0m     result \u001b[38;5;241m=\u001b[39m \u001b[38;5;28;01mNone\u001b[39;00m\n",
      "File \u001b[1;32m~\\anaconda3\\lib\\site-packages\\torch\\nn\\modules\\linear.py:117\u001b[0m, in \u001b[0;36mLinear.forward\u001b[1;34m(self, input)\u001b[0m\n\u001b[0;32m    116\u001b[0m \u001b[38;5;28;01mdef\u001b[39;00m \u001b[38;5;21mforward\u001b[39m(\u001b[38;5;28mself\u001b[39m, \u001b[38;5;28minput\u001b[39m: Tensor) \u001b[38;5;241m-\u001b[39m\u001b[38;5;241m>\u001b[39m Tensor:\n\u001b[1;32m--> 117\u001b[0m     \u001b[38;5;28;01mreturn\u001b[39;00m \u001b[43mF\u001b[49m\u001b[38;5;241;43m.\u001b[39;49m\u001b[43mlinear\u001b[49m\u001b[43m(\u001b[49m\u001b[38;5;28;43minput\u001b[39;49m\u001b[43m,\u001b[49m\u001b[43m \u001b[49m\u001b[38;5;28;43mself\u001b[39;49m\u001b[38;5;241;43m.\u001b[39;49m\u001b[43mweight\u001b[49m\u001b[43m,\u001b[49m\u001b[43m \u001b[49m\u001b[38;5;28;43mself\u001b[39;49m\u001b[38;5;241;43m.\u001b[39;49m\u001b[43mbias\u001b[49m\u001b[43m)\u001b[49m\n",
      "\u001b[1;31mRuntimeError\u001b[0m: mat1 and mat2 shapes cannot be multiplied (3584x28 and 784x10)"
     ]
    }
   ],
   "source": [
    "for images, labels in train_loader:\n",
    "    print(labels)\n",
    "    print(images.shape)\n",
    "    outputs = model(images)\n",
    "    print(outputs)\n",
    "    break"
   ]
  },
  {
   "cell_type": "code",
   "execution_count": 19,
   "id": "b23f40a8",
   "metadata": {},
   "outputs": [
    {
     "data": {
      "text/plain": [
       "torch.Size([128, 1, 28, 28])"
      ]
     },
     "execution_count": 19,
     "metadata": {},
     "output_type": "execute_result"
    }
   ],
   "source": [
    "images.shape"
   ]
  },
  {
   "cell_type": "code",
   "execution_count": 20,
   "id": "311c2015",
   "metadata": {},
   "outputs": [
    {
     "data": {
      "text/plain": [
       "torch.Size([128, 784])"
      ]
     },
     "execution_count": 20,
     "metadata": {},
     "output_type": "execute_result"
    }
   ],
   "source": [
    "images.reshape(128, 784).shape"
   ]
  },
  {
   "cell_type": "markdown",
   "id": "f7f29de1",
   "metadata": {},
   "source": [
    "The code above leads to an error because our input data does not have the right shape. Our images are of the shape 1x28x28, but we need them to be vectors of size 784, i.e., we need to flatten them. We'll use the `.reshape` method of a tensor, which will allow us to efficiently 'view' each image as a flat vector without really creating a copy of the underlying data. To include this additional functionality within our model, we need to define a custom model by extending the `nn.Module` class from PyTorch. \n",
    "\n",
    "A class in Python provides a \"blueprint\" for creating objects."
   ]
  },
  {
   "cell_type": "markdown",
   "id": "dc2ce1c4",
   "metadata": {},
   "source": [
    "You can learn more about Python classes here: https://www.w3schools.com/python/python_classes.asp .\n",
    "\n",
    "Classes can also build upon or _extend_ the functionality of existing classes. Let's extend the `nn.Module` class from PyTorch to define a custom model."
   ]
  },
  {
   "cell_type": "code",
   "execution_count": 21,
   "id": "d26a7710",
   "metadata": {},
   "outputs": [],
   "source": [
    "class MnistModel(nn.Module):\n",
    "    def __init__(self):\n",
    "        super().__init__()\n",
    "        self.linear = nn.Linear(input_size, num_classes)\n",
    "        \n",
    "    def forward(self, xb):\n",
    "        xb = xb.reshape(-1, 784)\n",
    "        out = self.linear(xb)\n",
    "        return out\n",
    "    \n",
    "model = MnistModel()"
   ]
  },
  {
   "cell_type": "markdown",
   "id": "3b7a4fcc",
   "metadata": {},
   "source": [
    "Inside the `__init__` constructor method, we instantiate the weights and biases using `nn.Linear`. And inside the `forward` method, which is invoked when we pass a batch of inputs to the model, we flatten the input tensor and pass it into `self.linear`.\n",
    "\n",
    "`xb.reshape(-1, 28*28)` indicates to PyTorch that we want a *view* of the `xb` tensor with two dimensions. The length along the 2nd dimension is 28\\*28 (i.e., 784). One argument to `.reshape` can be set to `-1` (in this case, the first dimension) to let PyTorch figure it out automatically based on the shape of the original tensor.\n",
    "\n",
    "Note that the model no longer has `.weight` and `.bias` attributes (as they are now inside the `.linear` attribute), but it does have a `.parameters` method that returns a list containing the weights and bias."
   ]
  },
  {
   "cell_type": "code",
   "execution_count": 22,
   "id": "a62da573",
   "metadata": {},
   "outputs": [
    {
     "data": {
      "text/plain": [
       "Linear(in_features=784, out_features=10, bias=True)"
      ]
     },
     "execution_count": 22,
     "metadata": {},
     "output_type": "execute_result"
    }
   ],
   "source": [
    "model.linear"
   ]
  },
  {
   "cell_type": "code",
   "execution_count": 23,
   "id": "f849f45e",
   "metadata": {},
   "outputs": [
    {
     "name": "stdout",
     "output_type": "stream",
     "text": [
      "torch.Size([10, 784]) torch.Size([10])\n"
     ]
    },
    {
     "data": {
      "text/plain": [
       "[Parameter containing:\n",
       " tensor([[ 0.0250, -0.0202,  0.0323,  ...,  0.0192, -0.0031, -0.0036],\n",
       "         [ 0.0015,  0.0280,  0.0333,  ..., -0.0057, -0.0224, -0.0264],\n",
       "         [ 0.0282,  0.0172, -0.0020,  ..., -0.0240, -0.0276, -0.0227],\n",
       "         ...,\n",
       "         [-0.0092,  0.0124, -0.0321,  ...,  0.0019, -0.0261,  0.0173],\n",
       "         [-0.0132,  0.0355, -0.0222,  ..., -0.0091,  0.0176,  0.0234],\n",
       "         [ 0.0267, -0.0169, -0.0288,  ..., -0.0002,  0.0010, -0.0116]],\n",
       "        requires_grad=True),\n",
       " Parameter containing:\n",
       " tensor([ 0.0051, -0.0294, -0.0049,  0.0078,  0.0304,  0.0313, -0.0222, -0.0098,\n",
       "         -0.0165,  0.0247], requires_grad=True)]"
      ]
     },
     "execution_count": 23,
     "metadata": {},
     "output_type": "execute_result"
    }
   ],
   "source": [
    "print(model.linear.weight.shape, model.linear.bias.shape)\n",
    "list(model.parameters())"
   ]
  },
  {
   "cell_type": "markdown",
   "id": "f61707c6",
   "metadata": {},
   "source": [
    "We can use our new custom model in the same way as before. Let's see if it works."
   ]
  },
  {
   "cell_type": "code",
   "execution_count": 24,
   "id": "8e8bc4be",
   "metadata": {},
   "outputs": [
    {
     "name": "stdout",
     "output_type": "stream",
     "text": [
      "torch.Size([128, 1, 28, 28])\n",
      "outputs.shape :  torch.Size([128, 10])\n",
      "Sample outputs :\n",
      " tensor([[-0.2425,  0.2148,  0.0956, -0.0349,  0.1138, -0.3056,  0.3486,  0.0195,\n",
      "         -0.0898,  0.0185],\n",
      "        [-0.2576,  0.1855,  0.1995,  0.1361,  0.0993, -0.2422,  0.3245,  0.4302,\n",
      "         -0.0386,  0.2729]])\n"
     ]
    }
   ],
   "source": [
    "for images, labels in train_loader:\n",
    "    print(images.shape)\n",
    "    outputs = model(images)\n",
    "    break\n",
    "\n",
    "print('outputs.shape : ', outputs.shape)\n",
    "print('Sample outputs :\\n', outputs[:2].data)"
   ]
  },
  {
   "cell_type": "markdown",
   "id": "7e4b1f00",
   "metadata": {},
   "source": [
    "For each of the 100 input images, we get 10 outputs, one for each class. As discussed earlier, we'd like these outputs to represent probabilities. Each output row's elements must lie between 0 to 1 and add up to 1, which is not the case. \n",
    "\n",
    "To convert the output rows into probabilities, we use the softmax function, which has the following formula:\n",
    "\n",
    "![softmax](https://i.imgur.com/EAh9jLN.png)\n",
    "\n",
    "First, we replace each element `yi` in an output row by `e^yi`, making all the elements positive. \n",
    "\n",
    "![](https://www.montereyinstitute.org/courses/DevelopmentalMath/COURSE_TEXT2_RESOURCE/U18_L1_T1_text_final_6_files/image001.png)\n",
    "\n",
    "\n",
    "\n",
    "Then, we divide them by their sum to ensure that they add up to 1. The resulting vector can thus be interpreted as probabilities.\n",
    "\n",
    "While it's easy to implement the softmax function (you should try it!), we'll use the implementation that's provided within PyTorch because it works well with multidimensional tensors (a list of output rows in our case)."
   ]
  },
  {
   "cell_type": "code",
   "execution_count": 25,
   "id": "4764c4d2",
   "metadata": {},
   "outputs": [],
   "source": [
    "import torch.nn.functional as F"
   ]
  },
  {
   "cell_type": "markdown",
   "id": "1652d066",
   "metadata": {},
   "source": [
    "The softmax function is included in the `torch.nn.functional` package and requires us to specify a dimension along which the function should be applied."
   ]
  },
  {
   "cell_type": "code",
   "execution_count": 26,
   "id": "ab1f3c8d",
   "metadata": {},
   "outputs": [
    {
     "data": {
      "text/plain": [
       "tensor([[-0.2425,  0.2148,  0.0956, -0.0349,  0.1138, -0.3056,  0.3486,  0.0195,\n",
       "         -0.0898,  0.0185],\n",
       "        [-0.2576,  0.1855,  0.1995,  0.1361,  0.0993, -0.2422,  0.3245,  0.4302,\n",
       "         -0.0386,  0.2729]], grad_fn=<SliceBackward0>)"
      ]
     },
     "execution_count": 26,
     "metadata": {},
     "output_type": "execute_result"
    }
   ],
   "source": [
    "outputs[:2]"
   ]
  },
  {
   "cell_type": "code",
   "execution_count": 27,
   "id": "8b168e4d",
   "metadata": {},
   "outputs": [
    {
     "name": "stdout",
     "output_type": "stream",
     "text": [
      "Sample probabilities:\n",
      " tensor([[0.0761, 0.1201, 0.1066, 0.0936, 0.1086, 0.0714, 0.1374, 0.0988, 0.0886,\n",
      "         0.0987],\n",
      "        [0.0676, 0.1053, 0.1068, 0.1003, 0.0966, 0.0687, 0.1210, 0.1345, 0.0842,\n",
      "         0.1149]])\n",
      "Sum:  1.0\n"
     ]
    }
   ],
   "source": [
    "# Apply softmax for each output row\n",
    "probs = F.softmax(outputs, dim=1)\n",
    "\n",
    "# Look at sample probabilities\n",
    "print(\"Sample probabilities:\\n\", probs[:2].data)\n",
    "\n",
    "# Add up the probabilities of an output row\n",
    "print(\"Sum: \", torch.sum(probs[0]).item())"
   ]
  },
  {
   "cell_type": "markdown",
   "id": "3c07aa89",
   "metadata": {},
   "source": [
    "Finally, we can determine the predicted label for each image by simply choosing the index of the element with the highest probability in each output row. We can do this using `torch.max`, which returns each row's largest element and the corresponding index."
   ]
  },
  {
   "cell_type": "code",
   "execution_count": 28,
   "id": "ca6a1659",
   "metadata": {},
   "outputs": [
    {
     "name": "stdout",
     "output_type": "stream",
     "text": [
      "tensor([6, 7, 6, 8, 8, 7, 9, 8, 2, 7, 6, 6, 9, 9, 8, 1, 1, 6, 8, 8, 6, 6, 8, 4,\n",
      "        6, 6, 9, 1, 8, 6, 9, 4, 4, 3, 6, 6, 8, 8, 9, 6, 3, 1, 8, 8, 8, 8, 1, 6,\n",
      "        6, 8, 6, 7, 9, 1, 6, 1, 8, 6, 6, 6, 6, 7, 8, 6, 9, 6, 9, 8, 8, 6, 9, 1,\n",
      "        9, 8, 1, 6, 6, 8, 1, 6, 6, 8, 8, 6, 6, 8, 1, 8, 1, 9, 6, 6, 7, 6, 8, 8,\n",
      "        3, 1, 8, 8, 6, 6, 6, 9, 6, 6, 9, 1, 8, 9, 1, 8, 8, 6, 6, 9, 8, 6, 8, 1,\n",
      "        8, 6, 9, 8, 1, 6, 1, 8])\n",
      "tensor([0.1374, 0.1345, 0.1354, 0.1258, 0.1242, 0.1246, 0.1225, 0.1302, 0.1199,\n",
      "        0.1286, 0.1198, 0.1480, 0.1322, 0.1223, 0.1516, 0.1345, 0.1234, 0.1351,\n",
      "        0.1825, 0.1324, 0.1698, 0.1176, 0.1266, 0.1270, 0.1322, 0.1475, 0.1423,\n",
      "        0.1271, 0.1386, 0.1397, 0.1176, 0.1125, 0.1377, 0.1231, 0.1248, 0.1239,\n",
      "        0.1333, 0.1431, 0.1371, 0.1280, 0.1193, 0.1320, 0.1320, 0.1266, 0.1599,\n",
      "        0.1464, 0.1297, 0.1567, 0.1444, 0.1230, 0.1344, 0.1330, 0.1409, 0.1184,\n",
      "        0.1512, 0.1250, 0.1638, 0.1393, 0.1313, 0.1490, 0.1256, 0.1493, 0.1367,\n",
      "        0.1384, 0.1328, 0.1216, 0.1445, 0.1303, 0.1243, 0.1287, 0.1297, 0.1167,\n",
      "        0.1734, 0.1418, 0.1176, 0.1419, 0.1178, 0.1288, 0.1317, 0.1390, 0.1508,\n",
      "        0.1256, 0.1436, 0.1253, 0.1240, 0.1369, 0.1335, 0.1803, 0.1290, 0.1329,\n",
      "        0.1482, 0.1863, 0.1338, 0.1329, 0.1377, 0.1318, 0.1383, 0.1430, 0.1424,\n",
      "        0.1275, 0.1462, 0.1435, 0.1291, 0.1269, 0.1259, 0.1365, 0.1451, 0.1285,\n",
      "        0.1425, 0.1304, 0.1188, 0.1380, 0.1345, 0.1466, 0.1456, 0.1293, 0.1161,\n",
      "        0.1393, 0.1312, 0.1197, 0.1869, 0.1243, 0.1380, 0.1270, 0.1488, 0.1447,\n",
      "        0.1275, 0.1479], grad_fn=<MaxBackward0>)\n"
     ]
    }
   ],
   "source": [
    "max_probs, preds = torch.max(probs, dim=1)\n",
    "print(preds)\n",
    "print(max_probs)"
   ]
  },
  {
   "cell_type": "markdown",
   "id": "49ed6afc",
   "metadata": {},
   "source": [
    "The numbers printed above are the predicted labels for the first batch of training images. Let's compare them with the actual labels."
   ]
  },
  {
   "cell_type": "code",
   "execution_count": 29,
   "id": "6dd4dafe",
   "metadata": {},
   "outputs": [
    {
     "data": {
      "text/plain": [
       "tensor([9, 8, 4, 2, 1, 8, 9, 2, 5, 0, 0, 3, 6, 2, 0, 7, 9, 2, 2, 7, 3, 3, 3, 8,\n",
       "        7, 8, 2, 8, 0, 8, 3, 6, 4, 2, 1, 1, 7, 0, 2, 9, 3, 3, 8, 4, 3, 0, 5, 3,\n",
       "        3, 4, 3, 8, 7, 5, 6, 8, 0, 1, 9, 0, 9, 8, 2, 5, 5, 5, 2, 6, 7, 9, 4, 5,\n",
       "        4, 6, 7, 1, 9, 8, 8, 9, 2, 2, 2, 8, 1, 2, 7, 0, 7, 4, 1, 3, 0, 2, 9, 2,\n",
       "        5, 1, 2, 6, 6, 6, 1, 7, 7, 1, 7, 5, 6, 9, 5, 0, 8, 7, 3, 4, 6, 0, 6, 7,\n",
       "        4, 5, 0, 2, 3, 2, 1, 5])"
      ]
     },
     "execution_count": 29,
     "metadata": {},
     "output_type": "execute_result"
    }
   ],
   "source": [
    "labels"
   ]
  },
  {
   "cell_type": "markdown",
   "id": "714fbbe6",
   "metadata": {},
   "source": [
    "Most of the predicted labels are different from the actual labels. That's because we have started with randomly initialized weights and biases. We need to train the model, i.e., adjust the weights using gradient descent to make better predictions."
   ]
  },
  {
   "cell_type": "markdown",
   "id": "bd3fd852",
   "metadata": {},
   "source": [
    "## Evaluation Metric and Loss Function"
   ]
  },
  {
   "cell_type": "markdown",
   "id": "7f85e576",
   "metadata": {},
   "source": [
    "Just as with linear regression, we need a way to evaluate how well our model is performing. A natural way to do this would be to find the percentage of labels that were predicted correctly, i.e,. the **accuracy** of the predictions. "
   ]
  },
  {
   "cell_type": "code",
   "execution_count": 30,
   "id": "c01515a8",
   "metadata": {},
   "outputs": [
    {
     "data": {
      "text/plain": [
       "tensor([[-0.2425,  0.2148,  0.0956, -0.0349,  0.1138, -0.3056,  0.3486,  0.0195,\n",
       "         -0.0898,  0.0185],\n",
       "        [-0.2576,  0.1855,  0.1995,  0.1361,  0.0993, -0.2422,  0.3245,  0.4302,\n",
       "         -0.0386,  0.2729]], grad_fn=<SliceBackward0>)"
      ]
     },
     "execution_count": 30,
     "metadata": {},
     "output_type": "execute_result"
    }
   ],
   "source": [
    "outputs[:2]"
   ]
  },
  {
   "cell_type": "code",
   "execution_count": 31,
   "id": "4a3a4d80",
   "metadata": {},
   "outputs": [
    {
     "data": {
      "text/plain": [
       "tensor(12)"
      ]
     },
     "execution_count": 31,
     "metadata": {},
     "output_type": "execute_result"
    }
   ],
   "source": [
    "torch.sum(preds == labels)"
   ]
  },
  {
   "cell_type": "code",
   "execution_count": 32,
   "id": "92327a27",
   "metadata": {},
   "outputs": [],
   "source": [
    "def accuracy(outputs, labels):\n",
    "    _, preds = torch.max(outputs, dim=1)\n",
    "    return torch.tensor(torch.sum(preds == labels).item() / len(preds))"
   ]
  },
  {
   "cell_type": "markdown",
   "id": "27289cc9",
   "metadata": {},
   "source": [
    "The `==` operator performs an element-wise comparison of two tensors with the same shape and returns a tensor of the same shape, containing `True` for unequal elements and `False` for equal elements. Passing the result to `torch.sum` returns the number of labels that were predicted correctly. Finally, we divide by the total number of images to get the accuracy. \n",
    "\n",
    "Note that we don't need to apply softmax to the outputs since its results have the same relative order. This is because `e^x` is an increasing function, i.e., if `y1 > y2`, then `e^y1 > e^y2`. The same holds after averaging out the values to get the softmax.\n",
    "\n",
    "Let's calculate the accuracy of the current model on the first batch of data. "
   ]
  },
  {
   "cell_type": "code",
   "execution_count": 33,
   "id": "234b5e24",
   "metadata": {},
   "outputs": [
    {
     "data": {
      "text/plain": [
       "tensor(0.0938)"
      ]
     },
     "execution_count": 33,
     "metadata": {},
     "output_type": "execute_result"
    }
   ],
   "source": [
    "accuracy(outputs, labels)"
   ]
  },
  {
   "cell_type": "code",
   "execution_count": 34,
   "id": "516d285b",
   "metadata": {
    "scrolled": true
   },
   "outputs": [
    {
     "data": {
      "text/plain": [
       "tensor([[0.0761, 0.1201, 0.1066,  ..., 0.0988, 0.0886, 0.0987],\n",
       "        [0.0676, 0.1053, 0.1068,  ..., 0.1345, 0.0842, 0.1149],\n",
       "        [0.0769, 0.1019, 0.0789,  ..., 0.1046, 0.1031, 0.1252],\n",
       "        ...,\n",
       "        [0.0839, 0.0980, 0.0934,  ..., 0.0926, 0.1148, 0.0918],\n",
       "        [0.0743, 0.1275, 0.1233,  ..., 0.1113, 0.0712, 0.0982],\n",
       "        [0.0685, 0.0930, 0.0994,  ..., 0.1064, 0.1479, 0.0969]],\n",
       "       grad_fn=<SoftmaxBackward0>)"
      ]
     },
     "execution_count": 34,
     "metadata": {},
     "output_type": "execute_result"
    }
   ],
   "source": [
    "probs"
   ]
  },
  {
   "cell_type": "markdown",
   "id": "2aa0f671",
   "metadata": {},
   "source": [
    "Accuracy is an excellent way for us (humans) to evaluate the model. However, we can't use it as a loss function for optimizing our model using gradient descent for the following reasons:\n",
    "\n",
    "1. It's not a differentiable function. `torch.max` and `==` are both non-continuous and non-differentiable operations, so we can't use the accuracy for computing gradients w.r.t the weights and biases.\n",
    "\n",
    "2. It doesn't take into account the actual probabilities predicted by the model, so it can't provide sufficient feedback for incremental improvements. \n",
    "\n",
    "For these reasons, accuracy is often used as an **evaluation metric** for classification, but not as a loss function. A commonly used loss function for classification problems is the **cross-entropy**, which has the following formula:\n",
    "\n",
    "![cross-entropy](https://i.imgur.com/VDRDl1D.png)\n",
    "\n",
    "While it looks complicated, it's actually quite simple:\n",
    "\n",
    "* For each output row, pick the predicted probability for the correct label. E.g., if the predicted probabilities for an image are `[0.1, 0.3, 0.2, ...]` and the correct label is `1`, we pick the corresponding element `0.3` and ignore the rest.\n",
    "\n",
    "* Then, take the [logarithm](https://en.wikipedia.org/wiki/Logarithm) of the picked probability. If the probability is high, i.e., close to 1, then its logarithm is a very small negative value, close to 0. And if the probability is low (close to 0), then the logarithm is a very large negative value. We also multiply the result by -1, which results is a large postive value of the loss for poor predictions.\n",
    "\n",
    "![](https://www.intmath.com/blog/wp-content/images/2019/05/log10.png)\n",
    "\n",
    "* Finally, take the average of the cross entropy across all the output rows to get the overall loss for a batch of data.\n",
    "\n",
    "Unlike accuracy, cross-entropy is a continuous and differentiable function. It also provides useful feedback for incremental improvements in the model (a slightly higher probability for the correct label leads to a lower loss). These two factors make cross-entropy a better choice for the loss function.\n",
    "\n",
    "As you might expect, PyTorch provides an efficient and tensor-friendly implementation of cross-entropy as part of the `torch.nn.functional` package. Moreover, it also performs softmax internally, so we can directly pass in the model's outputs without converting them into probabilities."
   ]
  },
  {
   "cell_type": "code",
   "execution_count": 35,
   "id": "c5ff6a15",
   "metadata": {},
   "outputs": [
    {
     "data": {
      "text/plain": [
       "tensor([[-2.4246e-01,  2.1475e-01,  9.5559e-02,  ...,  1.9517e-02,\n",
       "         -8.9772e-02,  1.8543e-02],\n",
       "        [-2.5763e-01,  1.8551e-01,  1.9950e-01,  ...,  4.3017e-01,\n",
       "         -3.8632e-02,  2.7290e-01],\n",
       "        [-2.1098e-01,  6.9974e-02, -1.8511e-01,  ...,  9.6229e-02,\n",
       "          8.1891e-02,  2.7621e-01],\n",
       "        ...,\n",
       "        [-1.6172e-01, -6.2102e-03, -5.4989e-02,  ..., -6.3250e-02,\n",
       "          1.5187e-01, -7.1888e-02],\n",
       "        [-2.8132e-01,  2.5856e-01,  2.2463e-01,  ...,  1.2256e-01,\n",
       "         -3.2472e-01, -2.5022e-03],\n",
       "        [-3.0625e-01, -4.5729e-04,  6.6628e-02,  ...,  1.3442e-01,\n",
       "          4.6395e-01,  4.1046e-02]], grad_fn=<AddmmBackward0>)"
      ]
     },
     "execution_count": 35,
     "metadata": {},
     "output_type": "execute_result"
    }
   ],
   "source": [
    "outputs"
   ]
  },
  {
   "cell_type": "code",
   "execution_count": 36,
   "id": "28650961",
   "metadata": {},
   "outputs": [],
   "source": [
    "loss_fn = F.cross_entropy"
   ]
  },
  {
   "cell_type": "code",
   "execution_count": 37,
   "id": "684b3072",
   "metadata": {},
   "outputs": [
    {
     "name": "stdout",
     "output_type": "stream",
     "text": [
      "tensor(2.3211, grad_fn=<NllLossBackward0>)\n"
     ]
    }
   ],
   "source": [
    "# Loss for current batch of data\n",
    "loss = loss_fn(outputs, labels)\n",
    "print(loss)"
   ]
  },
  {
   "cell_type": "markdown",
   "id": "159e06d9",
   "metadata": {},
   "source": [
    "We know that cross-entropy is the negative logarithm of the predicted probability of the correct label averaged over all training samples. Therefore, one way to interpret the resulting number e.g. `2.23` is look at `e^-2.23` which is around `0.1` as the predicted probability of the correct label, on average. *The lower the loss, The better the model.*"
   ]
  },
  {
   "cell_type": "markdown",
   "id": "62b8a394",
   "metadata": {},
   "source": [
    "## Training the model\n",
    "\n",
    "Now that we have defined the data loaders, model, loss function and optimizer, we are ready to train the model. The training process is identical to linear regression, with the addition of a \"validation phase\" to evaluate the model in each epoch. Here's what it looks like in pseudocode:\n",
    "\n",
    "```\n",
    "for epoch in range(num_epochs):\n",
    "    # Training phase\n",
    "    for batch in train_loader:\n",
    "        # Generate predictions\n",
    "        # Calculate loss\n",
    "        # Compute gradients\n",
    "        # Update weights\n",
    "        # Reset gradients\n",
    "    \n",
    "    # Validation phase\n",
    "    for batch in val_loader:\n",
    "        # Generate predictions\n",
    "        # Calculate loss\n",
    "        # Calculate metrics (accuracy etc.)\n",
    "    # Calculate average validation loss & metrics\n",
    "    \n",
    "    # Log epoch, loss & metrics for inspection\n",
    "```\n",
    "\n",
    "Some parts of the training loop are specific the specific problem we're solving (e.g. loss function, metrics etc.) whereas others are generic and can be applied to any deep learning problem. \n",
    "\n",
    "We'll include the problem-independent parts within a function called `fit`, which will be used to train the model. The problem-specific parts will be implemented by adding new methods to the `nn.Module` class.\n"
   ]
  },
  {
   "cell_type": "code",
   "execution_count": 38,
   "id": "a32775a2",
   "metadata": {},
   "outputs": [],
   "source": [
    "def fit(epochs, lr, model, train_loader, val_loader, opt_func=torch.optim.SGD):\n",
    "    optimizer = opt_func(model.parameters(), lr)\n",
    "    history = [] # for recording epoch-wise results\n",
    "    \n",
    "    for epoch in range(epochs):\n",
    "        \n",
    "        # Training Phase \n",
    "        for batch in train_loader:\n",
    "            loss = model.training_step(batch)\n",
    "            loss.backward()\n",
    "            optimizer.step()\n",
    "            optimizer.zero_grad()\n",
    "        \n",
    "        # Validation phase\n",
    "        result = evaluate(model, val_loader)\n",
    "        model.epoch_end(epoch, result)\n",
    "        history.append(result)\n",
    "\n",
    "    return history"
   ]
  },
  {
   "cell_type": "markdown",
   "id": "f526d85b",
   "metadata": {},
   "source": [
    "The `fit` function records the validation loss and metric from each epoch. It returns a history of the training, useful for debugging & visualization.\n",
    "\n",
    "Configurations like batch size, learning rate, etc. (called hyperparameters), need to picked in advance while training machine learning models. Choosing the right hyperparameters is critical for training a reasonably accurate model within a reasonable amount of time. It is an active area of research and experimentation in machine learning. Feel free to try different learning rates and see how it affects the training process.\n",
    "\n",
    "\n",
    "Let's define the `evaluate` function, used in the validation phase of `fit`."
   ]
  },
  {
   "cell_type": "code",
   "execution_count": 39,
   "id": "a56bc296",
   "metadata": {},
   "outputs": [],
   "source": [
    "def evaluate(model, val_loader):\n",
    "    outputs = [model.validation_step(batch) for batch in val_loader]\n",
    "    return model.validation_epoch_end(outputs)"
   ]
  },
  {
   "cell_type": "markdown",
   "id": "72d63766",
   "metadata": {},
   "source": [
    "\n",
    "Finally, let's redefine the `MnistModel` class to include additional methods `training_step`, `validation_step`, `validation_epoch_end`, and `epoch_end` used by `fit` and `evaluate`."
   ]
  },
  {
   "cell_type": "code",
   "execution_count": 40,
   "id": "69e5aa82",
   "metadata": {},
   "outputs": [],
   "source": [
    "class MnistModel(nn.Module):\n",
    "    def __init__(self):\n",
    "        super().__init__()\n",
    "        self.linear = nn.Linear(input_size, num_classes)\n",
    "        \n",
    "    def forward(self, xb):\n",
    "        xb = xb.reshape(-1, 784)\n",
    "        out = self.linear(xb)\n",
    "        return out\n",
    "    \n",
    "    def training_step(self, batch):\n",
    "        images, labels = batch \n",
    "        out = self(images)                  # Generate predictions\n",
    "        loss = F.cross_entropy(out, labels) # Calculate loss\n",
    "        return loss\n",
    "    \n",
    "    def validation_step(self, batch):\n",
    "        images, labels = batch \n",
    "        out = self(images)                    # Generate predictions\n",
    "        loss = F.cross_entropy(out, labels)   # Calculate loss\n",
    "        acc = accuracy(out, labels)           # Calculate accuracy\n",
    "        return {'val_loss': loss, 'val_acc': acc}\n",
    "        \n",
    "    def validation_epoch_end(self, outputs):\n",
    "        batch_losses = [x['val_loss'] for x in outputs]\n",
    "        epoch_loss = torch.stack(batch_losses).mean()   # Combine losses\n",
    "        batch_accs = [x['val_acc'] for x in outputs]\n",
    "        epoch_acc = torch.stack(batch_accs).mean()      # Combine accuracies\n",
    "        return {'val_loss': epoch_loss.item(), 'val_acc': epoch_acc.item()}\n",
    "    \n",
    "    def epoch_end(self, epoch, result):\n",
    "        print(\"Epoch [{}], val_loss: {:.4f}, val_acc: {:.4f}\".format(epoch, result['val_loss'], result['val_acc']))\n",
    "    \n",
    "model = MnistModel()"
   ]
  },
  {
   "cell_type": "markdown",
   "id": "d3bf3780",
   "metadata": {},
   "source": [
    "Before we train the model, let's see how the model performs on the validation set with the initial set of randomly initialized weights & biases.\n"
   ]
  },
  {
   "cell_type": "code",
   "execution_count": 41,
   "id": "fec3bc7b",
   "metadata": {},
   "outputs": [
    {
     "data": {
      "text/plain": [
       "{'val_loss': 2.2881627082824707, 'val_acc': 0.15110759437084198}"
      ]
     },
     "execution_count": 41,
     "metadata": {},
     "output_type": "execute_result"
    }
   ],
   "source": [
    "result0 = evaluate(model, val_loader)\n",
    "result0"
   ]
  },
  {
   "cell_type": "markdown",
   "id": "f9139059",
   "metadata": {},
   "source": [
    "The initial accuracy is around 10%, which one might expect from a randomly initialized model (since it has a 1 in 10 chance of getting a label right by guessing randomly).\n",
    "\n",
    "We are now ready to train the model. Let's train for five epochs and look at the results."
   ]
  },
  {
   "cell_type": "code",
   "execution_count": 49,
   "id": "eaf7203e",
   "metadata": {},
   "outputs": [
    {
     "name": "stdout",
     "output_type": "stream",
     "text": [
      "Epoch [0], val_loss: 0.4039, val_acc: 0.8966\n",
      "Epoch [1], val_loss: 0.4030, val_acc: 0.8965\n",
      "Epoch [2], val_loss: 0.4021, val_acc: 0.8968\n",
      "Epoch [3], val_loss: 0.4012, val_acc: 0.8969\n",
      "Epoch [4], val_loss: 0.4004, val_acc: 0.8969\n"
     ]
    }
   ],
   "source": [
    "history1 = fit(5, 0.001, model, train_loader, val_loader)a"
   ]
  },
  {
   "cell_type": "markdown",
   "id": "4ae2466b",
   "metadata": {},
   "source": [
    "That's a great result! With just 5 epochs of training, our model has reached an accuracy of over 80% on the validation set. Let's see if we can improve that by training for a few more epochs. Try changing the learning rates and number of epochs in each of the cells below."
   ]
  },
  {
   "cell_type": "code",
   "execution_count": 43,
   "id": "89a49835",
   "metadata": {},
   "outputs": [
    {
     "name": "stdout",
     "output_type": "stream",
     "text": [
      "Epoch [0], val_loss: 1.1124, val_acc: 0.8154\n",
      "Epoch [1], val_loss: 1.0391, val_acc: 0.8212\n",
      "Epoch [2], val_loss: 0.9790, val_acc: 0.8279\n",
      "Epoch [3], val_loss: 0.9289, val_acc: 0.8330\n",
      "Epoch [4], val_loss: 0.8865, val_acc: 0.8373\n",
      "Epoch [5], val_loss: 0.8501, val_acc: 0.8408\n",
      "Epoch [6], val_loss: 0.8186, val_acc: 0.8437\n",
      "Epoch [7], val_loss: 0.7909, val_acc: 0.8467\n",
      "Epoch [8], val_loss: 0.7664, val_acc: 0.8501\n",
      "Epoch [9], val_loss: 0.7446, val_acc: 0.8512\n"
     ]
    }
   ],
   "source": [
    "history2 = fit(10, 0.001, model, train_loader, val_loader)"
   ]
  },
  {
   "cell_type": "code",
   "execution_count": 44,
   "id": "865c1ed2",
   "metadata": {},
   "outputs": [
    {
     "name": "stdout",
     "output_type": "stream",
     "text": [
      "Epoch [0], val_loss: 0.7251, val_acc: 0.8529\n",
      "Epoch [1], val_loss: 0.7074, val_acc: 0.8546\n",
      "Epoch [2], val_loss: 0.6913, val_acc: 0.8566\n",
      "Epoch [3], val_loss: 0.6766, val_acc: 0.8577\n",
      "Epoch [4], val_loss: 0.6631, val_acc: 0.8590\n",
      "Epoch [5], val_loss: 0.6507, val_acc: 0.8611\n",
      "Epoch [6], val_loss: 0.6393, val_acc: 0.8631\n",
      "Epoch [7], val_loss: 0.6286, val_acc: 0.8643\n",
      "Epoch [8], val_loss: 0.6188, val_acc: 0.8643\n",
      "Epoch [9], val_loss: 0.6095, val_acc: 0.8662\n",
      "Epoch [10], val_loss: 0.6009, val_acc: 0.8672\n",
      "Epoch [11], val_loss: 0.5928, val_acc: 0.8674\n",
      "Epoch [12], val_loss: 0.5851, val_acc: 0.8688\n",
      "Epoch [13], val_loss: 0.5779, val_acc: 0.8699\n",
      "Epoch [14], val_loss: 0.5711, val_acc: 0.8713\n"
     ]
    }
   ],
   "source": [
    "history3 = fit(15, 0.001, model, train_loader, val_loader)"
   ]
  },
  {
   "cell_type": "code",
   "execution_count": 55,
   "id": "1c0cfdde",
   "metadata": {},
   "outputs": [
    {
     "name": "stdout",
     "output_type": "stream",
     "text": [
      "Epoch [0], val_loss: 0.3691, val_acc: 0.9031\n",
      "Epoch [1], val_loss: 0.3686, val_acc: 0.9031\n",
      "Epoch [2], val_loss: 0.3682, val_acc: 0.9033\n",
      "Epoch [3], val_loss: 0.3678, val_acc: 0.9031\n",
      "Epoch [4], val_loss: 0.3673, val_acc: 0.9034\n",
      "Epoch [5], val_loss: 0.3669, val_acc: 0.9035\n",
      "Epoch [6], val_loss: 0.3665, val_acc: 0.9035\n",
      "Epoch [7], val_loss: 0.3660, val_acc: 0.9036\n",
      "Epoch [8], val_loss: 0.3656, val_acc: 0.9035\n",
      "Epoch [9], val_loss: 0.3652, val_acc: 0.9035\n",
      "Epoch [10], val_loss: 0.3648, val_acc: 0.9036\n",
      "Epoch [11], val_loss: 0.3644, val_acc: 0.9041\n",
      "Epoch [12], val_loss: 0.3640, val_acc: 0.9040\n",
      "Epoch [13], val_loss: 0.3636, val_acc: 0.9041\n",
      "Epoch [14], val_loss: 0.3632, val_acc: 0.9041\n",
      "Epoch [15], val_loss: 0.3628, val_acc: 0.9042\n",
      "Epoch [16], val_loss: 0.3624, val_acc: 0.9042\n",
      "Epoch [17], val_loss: 0.3620, val_acc: 0.9044\n",
      "Epoch [18], val_loss: 0.3617, val_acc: 0.9045\n",
      "Epoch [19], val_loss: 0.3613, val_acc: 0.9046\n",
      "Epoch [20], val_loss: 0.3609, val_acc: 0.9047\n",
      "Epoch [21], val_loss: 0.3605, val_acc: 0.9047\n",
      "Epoch [22], val_loss: 0.3602, val_acc: 0.9046\n",
      "Epoch [23], val_loss: 0.3598, val_acc: 0.9047\n",
      "Epoch [24], val_loss: 0.3594, val_acc: 0.9047\n",
      "Epoch [25], val_loss: 0.3591, val_acc: 0.9048\n",
      "Epoch [26], val_loss: 0.3587, val_acc: 0.9050\n",
      "Epoch [27], val_loss: 0.3584, val_acc: 0.9048\n",
      "Epoch [28], val_loss: 0.3580, val_acc: 0.9050\n",
      "Epoch [29], val_loss: 0.3577, val_acc: 0.9049\n",
      "Epoch [30], val_loss: 0.3573, val_acc: 0.9048\n",
      "Epoch [31], val_loss: 0.3570, val_acc: 0.9049\n",
      "Epoch [32], val_loss: 0.3567, val_acc: 0.9050\n",
      "Epoch [33], val_loss: 0.3563, val_acc: 0.9050\n",
      "Epoch [34], val_loss: 0.3560, val_acc: 0.9051\n",
      "Epoch [35], val_loss: 0.3557, val_acc: 0.9051\n",
      "Epoch [36], val_loss: 0.3553, val_acc: 0.9051\n",
      "Epoch [37], val_loss: 0.3550, val_acc: 0.9052\n",
      "Epoch [38], val_loss: 0.3547, val_acc: 0.9052\n",
      "Epoch [39], val_loss: 0.3544, val_acc: 0.9052\n",
      "Epoch [40], val_loss: 0.3541, val_acc: 0.9057\n",
      "Epoch [41], val_loss: 0.3538, val_acc: 0.9058\n",
      "Epoch [42], val_loss: 0.3534, val_acc: 0.9058\n",
      "Epoch [43], val_loss: 0.3531, val_acc: 0.9059\n",
      "Epoch [44], val_loss: 0.3528, val_acc: 0.9059\n",
      "Epoch [45], val_loss: 0.3525, val_acc: 0.9062\n",
      "Epoch [46], val_loss: 0.3522, val_acc: 0.9063\n",
      "Epoch [47], val_loss: 0.3519, val_acc: 0.9063\n",
      "Epoch [48], val_loss: 0.3516, val_acc: 0.9065\n",
      "Epoch [49], val_loss: 0.3513, val_acc: 0.9065\n"
     ]
    }
   ],
   "source": [
    "history4 = fit(50, 0.001, model, train_loader, val_loader)"
   ]
  },
  {
   "cell_type": "markdown",
   "id": "7f8c3dbf",
   "metadata": {},
   "source": [
    "While the accuracy does continue to increase as we train for more epochs, the improvements get smaller with every epoch. Let's visualize this using a line graph."
   ]
  },
  {
   "cell_type": "code",
   "execution_count": 56,
   "id": "87f5a195",
   "metadata": {},
   "outputs": [
    {
     "data": {
      "image/png": "[encoded data removed]",
      "text/plain": [
       "<Figure size 432x288 with 1 Axes>"
      ]
     },
     "metadata": {
      "needs_background": "light"
     },
     "output_type": "display_data"
    }
   ],
   "source": [
    "history = [result0] + history1 + history2 + history3 + history4\n",
    "accuracies = [result['val_acc'] for result in history]\n",
    "plt.plot(accuracies, '-x')\n",
    "plt.xlabel('epoch')\n",
    "plt.ylabel('accuracy')\n",
    "plt.title('Accuracy vs. No. of epochs');"
   ]
  },
  {
   "cell_type": "markdown",
   "id": "74ce2e97",
   "metadata": {},
   "source": [
    "It's quite clear from the above picture that the model probably won't cross the accuracy threshold of 90% even after training for a very long time. One possible reason for this is that the learning rate might be too high. The model's parameters may be \"bouncing\" around the optimal set of parameters for the lowest loss. You can try reducing the learning rate and training for a few more epochs to see if it helps.\n",
    "\n",
    "The more likely reason that **the model just isn't powerful enough**. If you remember our initial hypothesis, we have assumed that the output (in this case the class probabilities) is a **linear function** of the input (pixel intensities), obtained by perfoming a matrix multiplication with the weights matrix and adding the bias. This is a fairly weak assumption, as there may not actually exist a linear relationship between the pixel intensities in an image and the digit it represents. While it works reasonably well for a simple dataset like MNIST (getting us to 90% accuracy), we need more sophisticated models that can capture non-linear relationships between image pixels and labels for complex tasks like recognizing everyday objects, animals etc. \n"
   ]
  },
  {
   "cell_type": "markdown",
   "id": "8832d884",
   "metadata": {},
   "source": [
    "# Save Best Validation Metrics After Final Training Run"
   ]
  },
  {
   "cell_type": "code",
   "execution_count": 57,
   "id": "2f5768e6",
   "metadata": {},
   "outputs": [
    {
     "name": "stdout",
     "output_type": "stream",
     "text": [
      "Updated log with new best model.\n"
     ]
    }
   ],
   "source": [
    "import os\n",
    "\n",
    "# Function to save val_accuracy and val_loss after the final history run\n",
    "def save_best_model(history, filename='best_model_log.txt'):\n",
    "    # Assuming history is a list of dictionaries\n",
    "    # Extract last val_accuracy and val_loss\n",
    "    val_accuracy = history[-1]['val_acc']\n",
    "    val_loss = history[-1]['val_loss']\n",
    "\n",
    "    # Check if the file exists\n",
    "    if os.path.exists(filename):\n",
    "        with open(filename, 'r') as f:\n",
    "            # Read previous accuracy and loss\n",
    "            lines = f.readlines()\n",
    "            if lines:\n",
    "                prev_val_accuracy = float(lines[0].split(\": \")[1].strip())\n",
    "                prev_val_loss = float(lines[1].split(\": \")[1].strip())\n",
    "            else:\n",
    "                prev_val_accuracy, prev_val_loss = 0, float('inf')\n",
    "    else:\n",
    "        prev_val_accuracy, prev_val_loss = 0, float('inf')\n",
    "\n",
    "    # Update the file if the new accuracy is greater than the previous one\n",
    "    if val_accuracy > prev_val_accuracy:\n",
    "        with open(filename, 'w') as f:\n",
    "            f.write(f\"val_accuracy: {val_accuracy}\\n\")\n",
    "            f.write(f\"val_loss: {val_loss}\\n\")\n",
    "        print(\"Updated log with new best model.\")\n",
    "\n",
    "# After running history1, history2, history3, and history4\n",
    "save_best_model(history4)  # Call this function only after history4 has completed"
   ]
  },
  {
   "cell_type": "markdown",
   "id": "add50db7",
   "metadata": {},
   "source": [
    "## Testing with individual images"
   ]
  },
  {
   "cell_type": "markdown",
   "id": "52a14f00",
   "metadata": {},
   "source": [
    "While we have been tracking the overall accuracy of a model so far, it's also a good idea to look at model's results on some sample images. Let's test out our model with some images from the predefined test dataset of 10000 images. We begin by recreating the test dataset with the `ToTensor` transform."
   ]
  },
  {
   "cell_type": "code",
   "execution_count": 58,
   "id": "a51b1cb4",
   "metadata": {},
   "outputs": [],
   "source": [
    "# Define test dataset\n",
    "test_dataset = MNIST(root='data/', \n",
    "                     train=False,\n",
    "                     transform=transforms.ToTensor())"
   ]
  },
  {
   "cell_type": "markdown",
   "id": "3ff761c1",
   "metadata": {},
   "source": [
    "Here's a sample image from the dataset."
   ]
  },
  {
   "cell_type": "code",
   "execution_count": 59,
   "id": "0cb453e3",
   "metadata": {},
   "outputs": [
    {
     "name": "stdout",
     "output_type": "stream",
     "text": [
      "Shape: torch.Size([1, 28, 28])\n",
      "Label: 7\n"
     ]
    },
    {
     "data": {
      "image/png": "[encoded data removed]",
      "text/plain": [
       "<Figure size 432x288 with 1 Axes>"
      ]
     },
     "metadata": {
      "needs_background": "light"
     },
     "output_type": "display_data"
    }
   ],
   "source": [
    "img, label = test_dataset[0]\n",
    "plt.imshow(img[0], cmap='gray')\n",
    "print('Shape:', img.shape)\n",
    "print('Label:', label)"
   ]
  },
  {
   "cell_type": "markdown",
   "id": "a3b99f32",
   "metadata": {},
   "source": [
    "Let's define a helper function `predict_image`, which returns the predicted label for a single image tensor."
   ]
  },
  {
   "cell_type": "code",
   "execution_count": 60,
   "id": "15905bfa",
   "metadata": {},
   "outputs": [],
   "source": [
    "def predict_image(img, model):\n",
    "    xb = img.unsqueeze(0)\n",
    "    yb = model(xb)\n",
    "    _, preds = torch.max(yb, dim=1)\n",
    "    return preds[0].item()"
   ]
  },
  {
   "cell_type": "markdown",
   "id": "e904dba7",
   "metadata": {},
   "source": [
    "`img.unsqueeze` simply adds another dimension at the begining of the 1x28x28 tensor, making it a 1x1x28x28 tensor, which the model views as a batch containing a single image.\n",
    "\n",
    "Let's try it out with a few images."
   ]
  },
  {
   "cell_type": "code",
   "execution_count": 61,
   "id": "6b013d80",
   "metadata": {},
   "outputs": [
    {
     "name": "stdout",
     "output_type": "stream",
     "text": [
      "Label: 7 , Predicted: 7\n"
     ]
    },
    {
     "data": {
      "image/png": "[encoded data removed]",
      "text/plain": [
       "<Figure size 432x288 with 1 Axes>"
      ]
     },
     "metadata": {
      "needs_background": "light"
     },
     "output_type": "display_data"
    }
   ],
   "source": [
    "img, label = test_dataset[0]\n",
    "plt.imshow(img[0], cmap='gray')\n",
    "print('Label:', label, ', Predicted:', predict_image(img, model))"
   ]
  },
  {
   "cell_type": "code",
   "execution_count": 62,
   "id": "f69246c4",
   "metadata": {},
   "outputs": [
    {
     "name": "stdout",
     "output_type": "stream",
     "text": [
      "Label: 0 , Predicted: 0\n"
     ]
    },
    {
     "data": {
      "image/png": "[encoded data removed]",
      "text/plain": [
       "<Figure size 432x288 with 1 Axes>"
      ]
     },
     "metadata": {
      "needs_background": "light"
     },
     "output_type": "display_data"
    }
   ],
   "source": [
    "img, label = test_dataset[10]\n",
    "plt.imshow(img[0], cmap='gray')\n",
    "print('Label:', label, ', Predicted:', predict_image(img, model))"
   ]
  },
  {
   "cell_type": "code",
   "execution_count": 63,
   "id": "18548c89",
   "metadata": {},
   "outputs": [
    {
     "name": "stdout",
     "output_type": "stream",
     "text": [
      "Label: 9 , Predicted: 3\n"
     ]
    },
    {
     "data": {
      "image/png": "[encoded data removed]",
      "text/plain": [
       "<Figure size 432x288 with 1 Axes>"
      ]
     },
     "metadata": {
      "needs_background": "light"
     },
     "output_type": "display_data"
    }
   ],
   "source": [
    "img, label = test_dataset[193]\n",
    "plt.imshow(img[0], cmap='gray')\n",
    "print('Label:', label, ', Predicted:', predict_image(img, model))"
   ]
  },
  {
   "cell_type": "code",
   "execution_count": 64,
   "id": "39339b11",
   "metadata": {},
   "outputs": [
    {
     "name": "stdout",
     "output_type": "stream",
     "text": [
      "Label: 2 , Predicted: 8\n"
     ]
    },
    {
     "data": {
      "image/png": "[encoded data removed]",
      "text/plain": [
       "<Figure size 432x288 with 1 Axes>"
      ]
     },
     "metadata": {
      "needs_background": "light"
     },
     "output_type": "display_data"
    }
   ],
   "source": [
    "img, label = test_dataset[1839]\n",
    "plt.imshow(img[0], cmap='gray')\n",
    "print('Label:', label, ', Predicted:', predict_image(img, model))"
   ]
  },
  {
   "cell_type": "markdown",
   "id": "91534fde",
   "metadata": {},
   "source": [
    "Identifying where our model performs poorly can help us improve the model, by collecting more training data, increasing/decreasing the complexity of the model, and changing the hypeparameters.\n",
    "\n",
    "As a final step, let's also look at the overall loss and accuracy of the model on the test set."
   ]
  },
  {
   "cell_type": "code",
   "execution_count": 65,
   "id": "360dc3af",
   "metadata": {},
   "outputs": [
    {
     "data": {
      "text/plain": [
       "{'val_loss': 0.34014254808425903, 'val_acc': 0.9078124761581421}"
      ]
     },
     "execution_count": 65,
     "metadata": {},
     "output_type": "execute_result"
    }
   ],
   "source": [
    "test_loader = DataLoader(test_dataset, batch_size=256)\n",
    "result = evaluate(model, test_loader)\n",
    "result"
   ]
  },
  {
   "cell_type": "markdown",
   "id": "44049f4f",
   "metadata": {},
   "source": [
    "We expect this to be similar to the accuracy/loss on the validation set. If not, we might need a better validation set that has similar data and distribution as the test set (which often comes from real world data)."
   ]
  },
  {
   "cell_type": "markdown",
   "id": "26d438b5",
   "metadata": {},
   "source": [
    "## Saving and loading the model"
   ]
  },
  {
   "cell_type": "markdown",
   "id": "28257f18",
   "metadata": {},
   "source": [
    "Since we've trained our model for a long time and achieved a resonable accuracy, it would be a good idea to save the weights and bias matrices to disk, so that we can reuse the model later and avoid retraining from scratch. Here's how you can save the model."
   ]
  },
  {
   "cell_type": "code",
   "execution_count": 66,
   "id": "034e7f40",
   "metadata": {},
   "outputs": [],
   "source": [
    "torch.save(model.state_dict(), 'mnist-logistic.pth')"
   ]
  },
  {
   "cell_type": "markdown",
   "id": "e30ddb0c",
   "metadata": {},
   "source": [
    "The `.state_dict` method returns an `OrderedDict` containing all the weights and bias matrices mapped to the right attributes of the model."
   ]
  },
  {
   "cell_type": "code",
   "execution_count": 67,
   "id": "8852b937",
   "metadata": {},
   "outputs": [
    {
     "data": {
      "text/plain": [
       "OrderedDict([('linear.weight',\n",
       "              tensor([[-0.0343, -0.0324, -0.0126,  ...,  0.0050, -0.0118,  0.0230],\n",
       "                      [ 0.0210,  0.0059, -0.0278,  ..., -0.0272,  0.0326,  0.0202],\n",
       "                      [-0.0220,  0.0279, -0.0354,  ..., -0.0354, -0.0211, -0.0137],\n",
       "                      ...,\n",
       "                      [-0.0137,  0.0092, -0.0109,  ..., -0.0003,  0.0230,  0.0219],\n",
       "                      [-0.0333,  0.0326, -0.0216,  ...,  0.0047, -0.0282, -0.0163],\n",
       "                      [-0.0343,  0.0340,  0.0022,  ..., -0.0129,  0.0154, -0.0128]])),\n",
       "             ('linear.bias',\n",
       "              tensor([-0.1524,  0.2155, -0.0325, -0.0874,  0.0916,  0.3487, -0.0171,  0.2185,\n",
       "                      -0.4777, -0.0511]))])"
      ]
     },
     "execution_count": 67,
     "metadata": {},
     "output_type": "execute_result"
    }
   ],
   "source": [
    "model.state_dict()"
   ]
  },
  {
   "cell_type": "markdown",
   "id": "4e5951c3",
   "metadata": {},
   "source": [
    "To load the model weights, we can instante a new object of the class `MnistModel`, and use the `.load_state_dict` method."
   ]
  },
  {
   "cell_type": "code",
   "execution_count": 68,
   "id": "83285058",
   "metadata": {},
   "outputs": [],
   "source": [
    "model2 = MnistModel()"
   ]
  },
  {
   "cell_type": "code",
   "execution_count": 69,
   "id": "87437eca",
   "metadata": {},
   "outputs": [
    {
     "data": {
      "text/plain": [
       "OrderedDict([('linear.weight',\n",
       "              tensor([[ 0.0295,  0.0201,  0.0155,  ...,  0.0028, -0.0354,  0.0023],\n",
       "                      [ 0.0033, -0.0349, -0.0200,  ..., -0.0287, -0.0203, -0.0248],\n",
       "                      [ 0.0041,  0.0070, -0.0154,  ..., -0.0131, -0.0123,  0.0081],\n",
       "                      ...,\n",
       "                      [-0.0059, -0.0057,  0.0030,  ..., -0.0284, -0.0219,  0.0144],\n",
       "                      [-0.0227, -0.0195, -0.0160,  ...,  0.0270, -0.0074, -0.0164],\n",
       "                      [-0.0210, -0.0090, -0.0329,  ..., -0.0138, -0.0136, -0.0204]])),\n",
       "             ('linear.bias',\n",
       "              tensor([ 0.0197,  0.0338, -0.0357,  0.0218,  0.0024,  0.0292,  0.0005,  0.0149,\n",
       "                      -0.0109,  0.0202]))])"
      ]
     },
     "execution_count": 69,
     "metadata": {},
     "output_type": "execute_result"
    }
   ],
   "source": [
    "model2.state_dict()"
   ]
  },
  {
   "cell_type": "code",
   "execution_count": 71,
   "id": "0a9457eb",
   "metadata": {},
   "outputs": [
    {
     "data": {
      "text/plain": [
       "{'val_loss': 2.3182570934295654, 'val_acc': 0.12441406399011612}"
      ]
     },
     "execution_count": 71,
     "metadata": {},
     "output_type": "execute_result"
    }
   ],
   "source": [
    "evaluate(model2, test_loader)"
   ]
  },
  {
   "cell_type": "code",
   "execution_count": 72,
   "id": "ec30370c",
   "metadata": {},
   "outputs": [
    {
     "name": "stderr",
     "output_type": "stream",
     "text": [
      "C:\\Users\\dell\\AppData\\Local\\Temp\\ipykernel_12380\\468328532.py:1: FutureWarning: You are using `torch.load` with `weights_only=False` (the current default value), which uses the default pickle module implicitly. It is possible to construct malicious pickle data which will execute arbitrary code during unpickling (See https://github.com/pytorch/pytorch/blob/main/SECURITY.md#untrusted-models for more details). In a future release, the default value for `weights_only` will be flipped to `True`. This limits the functions that could be executed during unpickling. Arbitrary objects will no longer be allowed to be loaded via this mode unless they are explicitly allowlisted by the user via `torch.serialization.add_safe_globals`. We recommend you start setting `weights_only=True` for any use case where you don't have full control of the loaded file. Please open an issue on GitHub for any issues related to this experimental feature.\n",
      "  model2.load_state_dict(torch.load('mnist-logistic.pth'))\n"
     ]
    },
    {
     "data": {
      "text/plain": [
       "OrderedDict([('linear.weight',\n",
       "              tensor([[-0.0343, -0.0324, -0.0126,  ...,  0.0050, -0.0118,  0.0230],\n",
       "                      [ 0.0210,  0.0059, -0.0278,  ..., -0.0272,  0.0326,  0.0202],\n",
       "                      [-0.0220,  0.0279, -0.0354,  ..., -0.0354, -0.0211, -0.0137],\n",
       "                      ...,\n",
       "                      [-0.0137,  0.0092, -0.0109,  ..., -0.0003,  0.0230,  0.0219],\n",
       "                      [-0.0333,  0.0326, -0.0216,  ...,  0.0047, -0.0282, -0.0163],\n",
       "                      [-0.0343,  0.0340,  0.0022,  ..., -0.0129,  0.0154, -0.0128]])),\n",
       "             ('linear.bias',\n",
       "              tensor([-0.1524,  0.2155, -0.0325, -0.0874,  0.0916,  0.3487, -0.0171,  0.2185,\n",
       "                      -0.4777, -0.0511]))])"
      ]
     },
     "execution_count": 72,
     "metadata": {},
     "output_type": "execute_result"
    }
   ],
   "source": [
    "model2.load_state_dict(torch.load('mnist-logistic.pth'))\n",
    "model2.state_dict()"
   ]
  },
  {
   "cell_type": "markdown",
   "id": "c64bd0b6",
   "metadata": {},
   "source": [
    "Just as a sanity check, let's verify that this model has the same loss and accuracy on the test set as before."
   ]
  },
  {
   "cell_type": "code",
   "execution_count": 73,
   "id": "68ccc464",
   "metadata": {},
   "outputs": [
    {
     "data": {
      "text/plain": [
       "{'val_loss': 0.34014254808425903, 'val_acc': 0.9078124761581421}"
      ]
     },
     "execution_count": 73,
     "metadata": {},
     "output_type": "execute_result"
    }
   ],
   "source": [
    "test_loader = DataLoader(test_dataset, batch_size=256)\n",
    "result = evaluate(model2, test_loader)\n",
    "result"
   ]
  },
  {
   "cell_type": "markdown",
   "id": "8e32727d",
   "metadata": {},
   "source": [
    "## Summary\n",
    "\n",
    "We've created a fairly sophisticated training and evaluation pipeline in this tutorial. Here's a list of the topics we've covered:\n",
    "\n",
    "* Working with images in PyTorch (using the MNIST dataset)\n",
    "* Splitting a dataset into training, validation and test sets\n",
    "* Creating PyTorch models with custom logic by extending the `nn.Module` class\n",
    "* Interpreting model ouputs as probabilities using softmax, and picking predicted labels\n",
    "* Picking a good evaluation metric (accuracy) and loss function (cross entropy) for classification problems\n",
    "* Setting up a training loop that also evaluates the model using the validation set\n",
    "* Testing the model manually on randomly picked examples \n",
    "* Saving and loading model checkpoints to avoid retraining from scratch"
   ]
  },
  {
   "cell_type": "code",
   "execution_count": null,
   "id": "2306c293",
   "metadata": {},
   "outputs": [],
   "source": []
  }
 ],
 "metadata": {
  "kernelspec": {
   "display_name": "Python 3 (ipykernel)",
   "language": "python",
   "name": "python3"
  },
  "language_info": {
   "codemirror_mode": {
    "name": "ipython",
    "version": 3
   },
   "file_extension": ".py",
   "mimetype": "text/x-python",
   "name": "python",
   "nbconvert_exporter": "python",
   "pygments_lexer": "ipython3",
   "version": "3.9.12"
  }
 },
 "nbformat": 4,
 "nbformat_minor": 5
}
